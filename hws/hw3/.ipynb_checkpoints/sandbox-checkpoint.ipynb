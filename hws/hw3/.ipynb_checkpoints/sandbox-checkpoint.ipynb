{
 "cells": [
  {
   "cell_type": "code",
   "execution_count": 1,
   "metadata": {},
   "outputs": [],
   "source": [
    "import numpy as np\n",
    "import gym\n",
    "import math"
   ]
  },
  {
   "cell_type": "code",
   "execution_count": 2,
   "metadata": {},
   "outputs": [],
   "source": [
    "LEFT = '<' \n",
    "DOWN = 'v' \n",
    "RIGHT = '>'\n",
    "UP = '^'\n",
    "\n",
    "#\"Left\",\"Down\",\"Right\",\"Up\"\n",
    "\n",
    "ACTION_MAP = {\n",
    "    0:LEFT,\n",
    "    1:DOWN,\n",
    "    2:RIGHT,\n",
    "    3:UP\n",
    "}"
   ]
  },
  {
   "cell_type": "code",
   "execution_count": 3,
   "metadata": {},
   "outputs": [],
   "source": [
    "def get_map(map_str):\n",
    "    #amap=\"SFFG\"\n",
    "    sqr = int(math.sqrt(len(map_str)))\n",
    "    grid = []\n",
    "    cnt = 0\n",
    "    for i in range(sqr):\n",
    "        inner_grid = []\n",
    "        for j in range(sqr):\n",
    "            inner_grid.append(map_str[cnt])\n",
    "            cnt+=1\n",
    "        grid.append(inner_grid)\n",
    "    #print(\"Sqr:\", sqr)\n",
    "    #print(\"grid:\", grid)\n",
    "    return grid"
   ]
  },
  {
   "cell_type": "code",
   "execution_count": null,
   "metadata": {},
   "outputs": [],
   "source": []
  },
  {
   "cell_type": "code",
   "execution_count": null,
   "metadata": {},
   "outputs": [],
   "source": []
  },
  {
   "cell_type": "code",
   "execution_count": null,
   "metadata": {},
   "outputs": [],
   "source": []
  },
  {
   "cell_type": "code",
   "execution_count": null,
   "metadata": {},
   "outputs": [],
   "source": []
  },
  {
   "cell_type": "code",
   "execution_count": 4,
   "metadata": {},
   "outputs": [],
   "source": [
    "def state_action_dict(grid, A=[0,1,2,3]):\n",
    "    state_dict = {}\n",
    "    \n",
    "    for r in range(len(grid)):\n",
    "        for c in range(len(grid[0])):\n",
    "            for a in range(len(A)):\n",
    "                state_dict[(r,c),a] = 0.0\n",
    "    \n",
    "    return state_dict"
   ]
  },
  {
   "cell_type": "code",
   "execution_count": 5,
   "metadata": {},
   "outputs": [],
   "source": [
    "def best_action(Q, S, A=[0,1,2,3]):\n",
    "    next_action = -10000\n",
    "    next_action_score = -10000\n",
    "    for a in A:\n",
    "        #print(\"S,a\", S,a)\n",
    "        na_score = Q[(S,a)]\n",
    "        if na_score >= next_action_score:\n",
    "            next_action = na_score\n",
    "            next_action = a\n",
    "    \n",
    "    return next_action"
   ]
  },
  {
   "cell_type": "code",
   "execution_count": 6,
   "metadata": {},
   "outputs": [],
   "source": [
    "def get_next_action(Q, S, epsilon, A=[0,1,2,3]):\n",
    "\n",
    "    p = np.random.random()\n",
    "    rand = p < epsilon\n",
    "    next_action = np.random.randint(4)\n",
    "    #print(\"SS=\",S)\n",
    "    if not rand:\n",
    "        next_action = best_action(Q, S)\n",
    "    \n",
    "    return next_action"
   ]
  },
  {
   "cell_type": "code",
   "execution_count": 7,
   "metadata": {},
   "outputs": [],
   "source": [
    "def state_to_r_c(S, grid):\n",
    "    sqr = len(grid)\n",
    "    grid = []\n",
    "    cnt = 0\n",
    "    for r in range(sqr):\n",
    "        for c in range(sqr):\n",
    "            if cnt == S:\n",
    "                return (r,c)\n",
    "            cnt+=1"
   ]
  },
  {
   "cell_type": "code",
   "execution_count": 8,
   "metadata": {},
   "outputs": [],
   "source": [
    "def sarsa(amap, gamma, alpha, epsilon, episodes, seed):\n",
    "    np.random.seed(seed)\n",
    "    grid = get_map(amap)\n",
    "    env = gym.make('FrozenLake-v0', desc=grid).unwrapped\n",
    "    env.seed(seed)\n",
    "    \n",
    "    #env.render()\n",
    "    Q = state_action_dict(grid)\n",
    "    #S = env.reset()\n",
    "    print(\"Q:\",Q)\n",
    "    \n",
    "    #print(\"S:\",S)\n",
    "    for e in range(episodes):\n",
    "        # c,r\n",
    "        S = env.reset()\n",
    "        S = state_to_r_c(S, grid)\n",
    "        cnt = 0\n",
    "        \n",
    "        A = get_next_action(Q, S, epsilon)\n",
    "        done = False\n",
    "        \n",
    "        while not done:\n",
    "            S_prime, R, done, info = env.step(A)\n",
    "            S_prime = state_to_r_c(S_prime, grid)\n",
    "            A_prime = get_next_action(Q, S_prime, epsilon)\n",
    "            Q[S, A] = Q[S, A] + alpha*(R + gamma*Q[S_prime, A_prime] - Q[S, A])\n",
    "            S = S_prime\n",
    "            A = A_prime\n",
    "            cnt += 1\n",
    "            if cnt % 1000 == 0:\n",
    "                print(\"e={0},cnt={1}\".format(e,cnt))\n",
    "                env.render()\n",
    "            \n",
    "    return Q"
   ]
  },
  {
   "cell_type": "code",
   "execution_count": null,
   "metadata": {},
   "outputs": [],
   "source": [
    "Q = sarsa(\"SFFG\", gamma=1.0, alpha=0.24, epsilon=0.09, episodes=49553, seed=202404)"
   ]
  },
  {
   "cell_type": "code",
   "execution_count": null,
   "metadata": {},
   "outputs": [],
   "source": [
    "np.random.randint(4)"
   ]
  },
  {
   "cell_type": "code",
   "execution_count": null,
   "metadata": {},
   "outputs": [],
   "source": [
    "np.random.random()"
   ]
  },
  {
   "cell_type": "code",
   "execution_count": null,
   "metadata": {},
   "outputs": [],
   "source": []
  },
  {
   "cell_type": "code",
   "execution_count": null,
   "metadata": {},
   "outputs": [],
   "source": [
    "ba = best_action(Q, (0,0))\n",
    "ba"
   ]
  },
  {
   "cell_type": "code",
   "execution_count": null,
   "metadata": {},
   "outputs": [],
   "source": [
    "ACTION_MAP[ba]"
   ]
  },
  {
   "cell_type": "code",
   "execution_count": null,
   "metadata": {},
   "outputs": [],
   "source": []
  }
 ],
 "metadata": {
  "kernelspec": {
   "display_name": "Python 3",
   "language": "python",
   "name": "python3"
  },
  "language_info": {
   "codemirror_mode": {
    "name": "ipython",
    "version": 3
   },
   "file_extension": ".py",
   "mimetype": "text/x-python",
   "name": "python",
   "nbconvert_exporter": "python",
   "pygments_lexer": "ipython3",
   "version": "3.6.8"
  }
 },
 "nbformat": 4,
 "nbformat_minor": 2
}
