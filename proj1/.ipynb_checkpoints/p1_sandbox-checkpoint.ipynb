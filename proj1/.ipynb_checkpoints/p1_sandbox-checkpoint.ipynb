{
 "cells": [
  {
   "cell_type": "code",
   "execution_count": 1,
   "metadata": {},
   "outputs": [],
   "source": [
    "import numpy as np\n",
    "import math"
   ]
  },
  {
   "cell_type": "code",
   "execution_count": 2,
   "metadata": {},
   "outputs": [],
   "source": [
    "S = {\n",
    "    \"B\": np.array([1,0,0,0,0]).T,\n",
    "    \"C\": np.array([0,1,0,0,0]).T,\n",
    "    \"D\": np.array([0,0,1,0,0]).T,\n",
    "    \"E\": np.array([0,0,0,1,0]).T,\n",
    "    \"F\": np.array([0,0,0,0,1]).T,\n",
    "}"
   ]
  },
  {
   "cell_type": "code",
   "execution_count": 3,
   "metadata": {},
   "outputs": [],
   "source": [
    "def p(xt, w):\n",
    "    pt = np.dot(w.T, xt)\n",
    "    print(\"\\t\\t\\t\\tpt={0}\".format(pt))\n",
    "    return pt"
   ]
  },
  {
   "cell_type": "code",
   "execution_count": 4,
   "metadata": {},
   "outputs": [
    {
     "name": "stdout",
     "output_type": "stream",
     "text": [
      "\t\t\t\tpt=1.0\n"
     ]
    },
    {
     "data": {
      "text/plain": [
       "1.0"
      ]
     },
     "execution_count": 4,
     "metadata": {},
     "output_type": "execute_result"
    }
   ],
   "source": [
    "t = 0\n",
    "xt = np.array([0,0,0,0,1], dtype=np.float)\n",
    "w = np.array([0,0,0,0,1], dtype=np.float)\n",
    "p(xt, w)"
   ]
  },
  {
   "cell_type": "code",
   "execution_count": null,
   "metadata": {},
   "outputs": [],
   "source": []
  },
  {
   "cell_type": "code",
   "execution_count": 5,
   "metadata": {},
   "outputs": [],
   "source": [
    "def residual(xt, l, t, k):\n",
    "    #return (l ** (t-k)) * xt\n",
    "    #is it always 1?\n",
    "    print(\"\\t\\t\\t(t-k)={0}\".format((t-k)))\n",
    "    return (l ** (t-k)) * 1.0"
   ]
  },
  {
   "cell_type": "code",
   "execution_count": 6,
   "metadata": {},
   "outputs": [
    {
     "name": "stdout",
     "output_type": "stream",
     "text": [
      "\t\t\t(t-k)=1\n"
     ]
    },
    {
     "data": {
      "text/plain": [
       "1.0"
      ]
     },
     "execution_count": 6,
     "metadata": {},
     "output_type": "execute_result"
    }
   ],
   "source": [
    "residual(5, l=1.0, t=2, k=1)"
   ]
  },
  {
   "cell_type": "code",
   "execution_count": 7,
   "metadata": {},
   "outputs": [],
   "source": [
    "def residual_sum(X, l):\n",
    "    total = 0\n",
    "    t = len(X)\n",
    "    for k in range(1, t+1):\n",
    "        xk = S[X[k-1]]\n",
    "        res = residual(xk, l, t, k)\n",
    "        print(\"\\t\\tres={0},total={1},xk={2},lambda={3},xt={4}\".format(res,total,xk,l,X[k-1]))\n",
    "        total += res\n",
    "    return total"
   ]
  },
  {
   "cell_type": "code",
   "execution_count": 8,
   "metadata": {},
   "outputs": [],
   "source": [
    "#X = ['D','C','D','E','F','G']\n",
    "X = ['D','C','D','E','F']"
   ]
  },
  {
   "cell_type": "code",
   "execution_count": 9,
   "metadata": {},
   "outputs": [
    {
     "name": "stdout",
     "output_type": "stream",
     "text": [
      "\t\t\t(t-k)=4\n",
      "\t\tres=0.0625,total=0,xk=[0 0 1 0 0],lambda=0.5,xt=D\n",
      "\t\t\t(t-k)=3\n",
      "\t\tres=0.125,total=0.0625,xk=[0 1 0 0 0],lambda=0.5,xt=C\n",
      "\t\t\t(t-k)=2\n",
      "\t\tres=0.25,total=0.1875,xk=[0 0 1 0 0],lambda=0.5,xt=D\n",
      "\t\t\t(t-k)=1\n",
      "\t\tres=0.5,total=0.4375,xk=[0 0 0 1 0],lambda=0.5,xt=E\n",
      "\t\t\t(t-k)=0\n",
      "\t\tres=1.0,total=0.9375,xk=[0 0 0 0 1],lambda=0.5,xt=F\n"
     ]
    },
    {
     "data": {
      "text/plain": [
       "1.9375"
      ]
     },
     "execution_count": 9,
     "metadata": {},
     "output_type": "execute_result"
    }
   ],
   "source": [
    "residual_sum(X, l=.5)"
   ]
  },
  {
   "cell_type": "code",
   "execution_count": 10,
   "metadata": {},
   "outputs": [],
   "source": [
    "def error(X,w,t,a):\n",
    "    xt = S[X[t-1]]\n",
    "    xt_prime = S[X[t]]\n",
    "    pred = p(xt, w)\n",
    "    pred_prime = p(xt_prime, w)\n",
    "    err = a * (pred_prime - pred)\n",
    "    print(\"\\txt={0},xt_prime={1}, pred={2}, pred_prime={3}, err={4}\".format(X[t-1],X[t],pred,pred_prime,err))\n",
    "    return err"
   ]
  },
  {
   "cell_type": "code",
   "execution_count": 11,
   "metadata": {},
   "outputs": [
    {
     "name": "stdout",
     "output_type": "stream",
     "text": [
      "\t\t\t\tpt=0.0\n",
      "\t\t\t\tpt=0.0\n",
      "\txt=D,xt_prime=C, pred=0.0, pred_prime=0.0, err=0.0\n"
     ]
    },
    {
     "data": {
      "text/plain": [
       "0.0"
      ]
     },
     "execution_count": 11,
     "metadata": {},
     "output_type": "execute_result"
    }
   ],
   "source": [
    "error(X,w,t=1,a=1.0)"
   ]
  },
  {
   "cell_type": "code",
   "execution_count": 12,
   "metadata": {},
   "outputs": [],
   "source": [
    "def delta_w_t(X,w,t,a,l):\n",
    "    err = error(X,w,t,a)\n",
    "    res = residual_sum(X, l=l)\n",
    "    dw = err * res\n",
    "    print(\"t={0},err={1},res={2},w={3},dw={4}\".format(t,err,res,w,dw))\n",
    "    return dw"
   ]
  },
  {
   "cell_type": "code",
   "execution_count": 13,
   "metadata": {},
   "outputs": [
    {
     "name": "stdout",
     "output_type": "stream",
     "text": [
      "\t\t\t\tpt=1.0\n",
      "\t\t\t\tpt=0.0\n",
      "\txt=F,xt_prime=D, pred=1.0, pred_prime=0.0, err=-1.0\n",
      "\t\t\t(t-k)=4\n",
      "\t\tres=1.0,total=0,xk=[0 0 1 0 0],lambda=1.0,xt=D\n",
      "\t\t\t(t-k)=3\n",
      "\t\tres=1.0,total=1.0,xk=[0 1 0 0 0],lambda=1.0,xt=C\n",
      "\t\t\t(t-k)=2\n",
      "\t\tres=1.0,total=2.0,xk=[0 0 1 0 0],lambda=1.0,xt=D\n",
      "\t\t\t(t-k)=1\n",
      "\t\tres=1.0,total=3.0,xk=[0 0 0 1 0],lambda=1.0,xt=E\n",
      "\t\t\t(t-k)=0\n",
      "\t\tres=1.0,total=4.0,xk=[0 0 0 0 1],lambda=1.0,xt=F\n",
      "t=0,err=-1.0,res=5.0,w=[0. 0. 0. 0. 1.],dw=-5.0\n"
     ]
    },
    {
     "data": {
      "text/plain": [
       "-5.0"
      ]
     },
     "execution_count": 13,
     "metadata": {},
     "output_type": "execute_result"
    }
   ],
   "source": [
    "delta_w_t(X,w,t,a=1.0,l=1.0)"
   ]
  },
  {
   "cell_type": "code",
   "execution_count": null,
   "metadata": {},
   "outputs": [],
   "source": [
    "# accumulated over sequences and \n",
    "# only used to update the weight vector \n",
    "# after the complete presentation of a training set.\n",
    "def delta_w_t_v1(Xs,w,a,l):\n",
    "    # seq is X (sequence)\n",
    "    for seq in Xs:\n",
    "        for t in range(1, len(seq)+1):\n",
    "            temp_dw = [0,0,0,0,0]\n",
    "            for"
   ]
  }
 ],
 "metadata": {
  "kernelspec": {
   "display_name": "Python 3",
   "language": "python",
   "name": "python3"
  },
  "language_info": {
   "codemirror_mode": {
    "name": "ipython",
    "version": 3
   },
   "file_extension": ".py",
   "mimetype": "text/x-python",
   "name": "python",
   "nbconvert_exporter": "python",
   "pygments_lexer": "ipython3",
   "version": "3.8.2"
  }
 },
 "nbformat": 4,
 "nbformat_minor": 4
}
